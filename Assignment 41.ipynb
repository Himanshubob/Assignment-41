{
 "cells": [
  {
   "cell_type": "markdown",
   "id": "172869e4",
   "metadata": {},
   "source": [
    "# Q1. What is Lasso Regression, and how does it differ from other regression techniques?"
   ]
  },
  {
   "cell_type": "markdown",
   "id": "db985a94",
   "metadata": {},
   "source": [
    "#  ans.. lasso regressiopn is the ml model fitr the line and the lasso regression is work the feature selection"
   ]
  },
  {
   "cell_type": "markdown",
   "id": "a6286578",
   "metadata": {},
   "source": [
    "# Q2. What is the main advantage of using Lasso Regression in feature selection?"
   ]
  },
  {
   "cell_type": "markdown",
   "id": "d0c9f8a0",
   "metadata": {},
   "source": [
    "# ans.. lasso regression wokig the model like the given data set are two feature are same so the lasso regression is use only one one feature ."
   ]
  },
  {
   "cell_type": "markdown",
   "id": "0120aa45",
   "metadata": {},
   "source": [
    "# Q3. How do you interpret the coefficients of a Lasso Regression model?"
   ]
  },
  {
   "cell_type": "markdown",
   "id": "81d5fad0",
   "metadata": {},
   "source": [
    " # LASSO MODEL HAVE THE interpret the one coefficients "
   ]
  },
  {
   "cell_type": "markdown",
   "id": "e39b6051",
   "metadata": {},
   "source": [
    "# Q4. What are the tuning parameters that can be adjusted in Lasso Regression, and how do they affect the model's performance?"
   ]
  },
  {
   "cell_type": "markdown",
   "id": "9399cd37",
   "metadata": {},
   "source": [
    "# A tuning parameter (λ), sometimes called a penalty parameter, controls the strength of the penalty term in ridge regression and lasso regression. It is basically the amount of shrinkage, where data values are shrunk towards a central point, like the mean"
   ]
  },
  {
   "cell_type": "markdown",
   "id": "a631c42e",
   "metadata": {},
   "source": [
    "# Q5. Can Lasso Regression be used for non-linear regression problems? If yes, how?"
   ]
  },
  {
   "cell_type": "markdown",
   "id": "0b435df6",
   "metadata": {},
   "source": [
    "# If you can linearize the model, then yes but for an approximate solution in the LS sense since what is measured is y and not any of its possible transforms. If you model is nonlinear because of one parameter, there are things which can be done."
   ]
  },
  {
   "cell_type": "markdown",
   "id": "7b4f8995",
   "metadata": {},
   "source": [
    "# Q6. What is the difference between Ridge Regression and Lasso Regression?"
   ]
  },
  {
   "cell_type": "markdown",
   "id": "b4539d33",
   "metadata": {},
   "source": [
    "# The difference between ridge and lasso regression is that it tends to make coefficients to absolute zero as compared to Ridge which never sets the value of coefficient to absolute zero."
   ]
  },
  {
   "cell_type": "markdown",
   "id": "8ccd0c24",
   "metadata": {},
   "source": [
    "# Q7. Can Lasso Regression handle multicollinearity in the input features? If yes, how?"
   ]
  },
  {
   "cell_type": "markdown",
   "id": "698bf71a",
   "metadata": {},
   "source": [
    "# Another Tolerant Method for dealing with multicollinearity known as Least Absolute Shrinkage and Selection Operator (LASSO) regression, solves the same constrained optimization problem as ridge regression, but uses the L1 norm rather than the L2 norm as a measure of complexity"
   ]
  },
  {
   "cell_type": "markdown",
   "id": "2f6108f0",
   "metadata": {},
   "source": [
    "# Q8. How do you choose the optimal value of the regularization parameter (lambda) in Lasso Regression?"
   ]
  },
  {
   "cell_type": "markdown",
   "id": "a143d233",
   "metadata": {},
   "source": [
    " # ans the value of lambda is increce of the fuction is gooing to the value of zero."
   ]
  },
  {
   "cell_type": "code",
   "execution_count": null,
   "id": "4740c2ea",
   "metadata": {},
   "outputs": [],
   "source": []
  }
 ],
 "metadata": {
  "kernelspec": {
   "display_name": "Python 3 (ipykernel)",
   "language": "python",
   "name": "python3"
  },
  "language_info": {
   "codemirror_mode": {
    "name": "ipython",
    "version": 3
   },
   "file_extension": ".py",
   "mimetype": "text/x-python",
   "name": "python",
   "nbconvert_exporter": "python",
   "pygments_lexer": "ipython3",
   "version": "3.10.9"
  }
 },
 "nbformat": 4,
 "nbformat_minor": 5
}
